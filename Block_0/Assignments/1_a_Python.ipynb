{
 "cells": [
  {
   "cell_type": "markdown",
   "metadata": {},
   "source": [
    "# Exercise I: Your own Python module "
   ]
  },
  {
   "cell_type": "code",
   "execution_count": 1,
   "metadata": {},
   "outputs": [
    {
     "name": "stdout",
     "output_type": "stream",
     "text": [
      "running in Colab: False\n"
     ]
    }
   ],
   "source": [
    "#check if notebook runs in colab\n",
    "import sys\n",
    "IN_COLAB = 'google.colab' in sys.modules\n",
    "print('running in Colab:',IN_COLAB)\n",
    "path='..'\n",
    "if IN_COLAB:\n",
    "  #in colab, we need to clone the data from the repo\n",
    "  !git clone https://github.com/keuperj/DataScienceSS20.git\n",
    "  path='DataScienceSS20'\n",
    "  import sys\n",
    "  sys.path.append(path+'/Exercises/')"
   ]
  },
  {
   "cell_type": "markdown",
   "metadata": {},
   "source": [
    "Write your own python module (choose a name) with the following properties:\n",
    "\n",
    "1. start new python file for the module\n",
    "2. define a class ***ListKeeper*** with the following properties and API:\n",
    "   1. ***Listkeeper*** strores named lists (hint: use dictionaries) \n",
    "   2. it initializes with a list named *example*: [1,2,3,4,5]\n",
    "   3. ``show()`` returns all list names\n",
    "   4. ``add(name, list)`` adds a new list\n",
    "   5. ``delete(name)`` deletes list\n",
    "   6. ``sort(name)`` returns the sorted list *name*\n",
    "   7. ``append(name, list)`` appends *list* to *name* \n",
    "3. add comments and documentation to your class\n",
    "4. Import your module in this notebook\n",
    "5. write tests to check the functionality of your class "
   ]
  },
  {
   "cell_type": "markdown",
   "metadata": {},
   "source": [
    "## ListKeeper Tests\n",
    "Testing the class methods of the ListKeeper Module"
   ]
  },
  {
   "cell_type": "code",
   "execution_count": 2,
   "metadata": {},
   "outputs": [],
   "source": [
    "import ListKeeperScript as lKeeper"
   ]
  },
  {
   "cell_type": "markdown",
   "metadata": {},
   "source": [
    "### Initialization"
   ]
  },
  {
   "cell_type": "code",
   "execution_count": 3,
   "metadata": {},
   "outputs": [
    {
     "name": "stdout",
     "output_type": "stream",
     "text": [
      "['example']\n"
     ]
    },
    {
     "data": {
      "text/plain": [
       "[1, 2, 3, 4, 5]"
      ]
     },
     "execution_count": 3,
     "metadata": {},
     "output_type": "execute_result"
    }
   ],
   "source": [
    "list_keeper=lKeeper.ListKeeper()\n",
    "print(list_keeper.show())\n",
    "list_keeper.get(\"example\")"
   ]
  },
  {
   "cell_type": "markdown",
   "metadata": {},
   "source": [
    "### Adding a new list"
   ]
  },
  {
   "cell_type": "code",
   "execution_count": 4,
   "metadata": {},
   "outputs": [
    {
     "name": "stdout",
     "output_type": "stream",
     "text": [
      "['example', 'tiere']\n"
     ]
    },
    {
     "data": {
      "text/plain": [
       "['hund', 'katze', 'vogel']"
      ]
     },
     "execution_count": 4,
     "metadata": {},
     "output_type": "execute_result"
    }
   ],
   "source": [
    "list_keeper.add('tiere',['hund','katze','vogel'])\n",
    "print(list_keeper.show())\n",
    "list_keeper.get('tiere')"
   ]
  },
  {
   "cell_type": "markdown",
   "metadata": {},
   "source": [
    "### Adding and sorting a new list"
   ]
  },
  {
   "cell_type": "code",
   "execution_count": 5,
   "metadata": {},
   "outputs": [
    {
     "name": "stdout",
     "output_type": "stream",
     "text": [
      "[5, 1, 46, 13, 69, 32, 23]\n"
     ]
    },
    {
     "data": {
      "text/plain": [
       "[1, 5, 13, 23, 32, 46, 69]"
      ]
     },
     "execution_count": 5,
     "metadata": {},
     "output_type": "execute_result"
    }
   ],
   "source": [
    "list_keeper.add('unsorted',[5,1,46,13,69,32,23])\n",
    "print(list_keeper.get('unsorted')) \n",
    "list_keeper.sort('unsorted')"
   ]
  },
  {
   "cell_type": "markdown",
   "metadata": {},
   "source": [
    "Shows the object list is still unsorted:"
   ]
  },
  {
   "cell_type": "code",
   "execution_count": 6,
   "metadata": {},
   "outputs": [
    {
     "data": {
      "text/plain": [
       "[5, 1, 46, 13, 69, 32, 23]"
      ]
     },
     "execution_count": 6,
     "metadata": {},
     "output_type": "execute_result"
    }
   ],
   "source": [
    "list_keeper.get('unsorted')"
   ]
  },
  {
   "cell_type": "markdown",
   "metadata": {},
   "source": [
    "### Deleting a list"
   ]
  },
  {
   "cell_type": "markdown",
   "metadata": {},
   "source": [
    "List before deleting a list:"
   ]
  },
  {
   "cell_type": "code",
   "execution_count": 7,
   "metadata": {},
   "outputs": [
    {
     "data": {
      "text/plain": [
       "['example', 'tiere', 'unsorted']"
      ]
     },
     "execution_count": 7,
     "metadata": {},
     "output_type": "execute_result"
    }
   ],
   "source": [
    "list_keeper.show()"
   ]
  },
  {
   "cell_type": "markdown",
   "metadata": {},
   "source": [
    "List after deleting a list:"
   ]
  },
  {
   "cell_type": "code",
   "execution_count": 8,
   "metadata": {},
   "outputs": [
    {
     "name": "stdout",
     "output_type": "stream",
     "text": [
      "['example', 'tiere']\n",
      "Not found\n"
     ]
    }
   ],
   "source": [
    "list_keeper.delete('unsorted')\n",
    "print(list_keeper.show())\n",
    "try:\n",
    "    print(list_keeper.get('unsorted'))\n",
    "except KeyError:\n",
    "    print(\"Not found\")"
   ]
  },
  {
   "cell_type": "markdown",
   "metadata": {},
   "source": [
    "### Appending to a existing list"
   ]
  },
  {
   "cell_type": "markdown",
   "metadata": {},
   "source": [
    "\"tiere\" list before appending a new list:\n"
   ]
  },
  {
   "cell_type": "code",
   "execution_count": 9,
   "metadata": {},
   "outputs": [
    {
     "data": {
      "text/plain": [
       "['hund', 'katze', 'vogel']"
      ]
     },
     "execution_count": 9,
     "metadata": {},
     "output_type": "execute_result"
    }
   ],
   "source": [
    "list_keeper.get('tiere')"
   ]
  },
  {
   "cell_type": "markdown",
   "metadata": {},
   "source": [
    "Appending new animals:"
   ]
  },
  {
   "cell_type": "code",
   "execution_count": 10,
   "metadata": {},
   "outputs": [
    {
     "data": {
      "text/plain": [
       "['hund', 'katze', 'vogel', 'fisch', 'adler', 'kuh', 'ratte']"
      ]
     },
     "execution_count": 10,
     "metadata": {},
     "output_type": "execute_result"
    }
   ],
   "source": [
    "list_keeper.append('tiere',['fisch','adler','kuh','ratte'])\n",
    "list_keeper.get('tiere')"
   ]
  },
  {
   "cell_type": "markdown",
   "metadata": {},
   "source": [
    "#### Sorting a appended list"
   ]
  },
  {
   "cell_type": "code",
   "execution_count": 11,
   "metadata": {},
   "outputs": [
    {
     "name": "stdout",
     "output_type": "stream",
     "text": [
      "['adler', 'fisch', 'hund', 'katze', 'kuh', 'ratte', 'vogel']\n"
     ]
    },
    {
     "data": {
      "text/plain": [
       "['hund', 'katze', 'vogel', 'fisch', 'adler', 'kuh', 'ratte']"
      ]
     },
     "execution_count": 11,
     "metadata": {},
     "output_type": "execute_result"
    }
   ],
   "source": [
    "print(list_keeper.sort('tiere'))\n",
    "list_keeper.get('tiere')"
   ]
  },
  {
   "cell_type": "code",
   "execution_count": null,
   "metadata": {},
   "outputs": [],
   "source": []
  }
 ],
 "metadata": {
  "kernelspec": {
   "display_name": "Python 3",
   "language": "python",
   "name": "python3"
  },
  "language_info": {
   "codemirror_mode": {
    "name": "ipython",
    "version": 3
   },
   "file_extension": ".py",
   "mimetype": "text/x-python",
   "name": "python",
   "nbconvert_exporter": "python",
   "pygments_lexer": "ipython3",
   "version": "3.8.5"
  }
 },
 "nbformat": 4,
 "nbformat_minor": 4
}
