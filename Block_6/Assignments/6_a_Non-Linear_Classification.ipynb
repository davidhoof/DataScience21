{
 "cells": [
  {
   "cell_type": "markdown",
   "metadata": {},
   "source": [
    "# Block 6 Exercise 1: Non-Linear Classification"
   ]
  },
  {
   "cell_type": "markdown",
   "metadata": {},
   "source": [
    "## MNIST Data\n",
    "We return to the MNIST data set on handwritten digits to compare non-linear classification algorithms ...   "
   ]
  },
  {
   "cell_type": "code",
   "execution_count": 1,
   "metadata": {},
   "outputs": [],
   "source": [
    "#imports \n",
    "import matplotlib.pyplot as plt\n",
    "import numpy as np\n",
    "from sklearn.datasets import fetch_openml"
   ]
  },
  {
   "cell_type": "code",
   "execution_count": 2,
   "metadata": {},
   "outputs": [],
   "source": [
    "# Load data from https://www.openml.org/d/554\n",
    "X, y = fetch_openml('mnist_784', version=1, return_X_y=True)\n"
   ]
  },
  {
   "cell_type": "code",
   "execution_count": 3,
   "metadata": {},
   "outputs": [
    {
     "data": {
      "text/plain": [
       "(70000, 784)"
      ]
     },
     "execution_count": 3,
     "metadata": {},
     "output_type": "execute_result"
    }
   ],
   "source": [
    "#the full MNIST data set contains 70k samples of digits 0-9 as 28*28 gray scale images (represented as 784 dim vectors)\n",
    "np.shape(X)"
   ]
  },
  {
   "cell_type": "code",
   "execution_count": 4,
   "metadata": {},
   "outputs": [
    {
     "data": {
      "text/plain": [
       "0.0"
      ]
     },
     "execution_count": 4,
     "metadata": {},
     "output_type": "execute_result"
    }
   ],
   "source": [
    "X.min()"
   ]
  },
  {
   "cell_type": "code",
   "execution_count": 5,
   "metadata": {},
   "outputs": [
    {
     "data": {
      "text/plain": [
       "255.0"
      ]
     },
     "execution_count": 5,
     "metadata": {},
     "output_type": "execute_result"
    }
   ],
   "source": [
    "#look at max/min value in the data\n",
    "X.max()"
   ]
  },
  {
   "cell_type": "markdown",
   "metadata": {},
   "source": [
    "### E1.1: Cross-Validation and Support Vector Machines\n",
    "Train and optimize  C-SVM classifier on MNIST (https://scikit-learn.org/stable/modules/generated/sklearn.svm.SVC.html#sklearn.svm.SVC)\n",
    "* use a RBF kernel\n",
    "* use *random search* with cross-validation to find the best settings for *gamma* and *C* (https://scikit-learn.org/stable/modules/generated/sklearn.model_selection.RandomizedSearchCV.html#sklearn.model_selection.RandomizedSearchCV)\n",
    "* use max_iter in the SVM to avoid long training times "
   ]
  },
  {
   "cell_type": "code",
   "execution_count": 6,
   "metadata": {},
   "outputs": [
    {
     "name": "stderr",
     "output_type": "stream",
     "text": [
      "G:\\Users\\David\\anaconda3\\lib\\site-packages\\sklearn\\svm\\_base.py:246: ConvergenceWarning: Solver terminated early (max_iter=300).  Consider pre-processing your data with StandardScaler or MinMaxScaler.\n",
      "  warnings.warn('Solver terminated early (max_iter=%i).'\n"
     ]
    }
   ],
   "source": [
    "import numpy as np\n",
    "from sklearn.pipeline import make_pipeline\n",
    "from sklearn.preprocessing import StandardScaler\n",
    "from sklearn.svm import SVC\n",
    "\n",
    "from sklearn.model_selection import RandomizedSearchCV\n",
    "from scipy.stats import uniform,loguniform\n",
    "\n",
    "svm = SVC(gamma='auto',kernel='rbf',max_iter=300)\n",
    "\n",
    "distributions = dict(C=loguniform(1e-6, 1e+6),\n",
    "                      gamma=loguniform(1e-6, 1e+1))\n",
    "clf = RandomizedSearchCV(svm, distributions, random_state=0,n_jobs=6)\n",
    "search = clf.fit(X, y)"
   ]
  },
  {
   "cell_type": "code",
   "execution_count": 7,
   "metadata": {},
   "outputs": [
    {
     "data": {
      "text/plain": [
       "{'C': 7.119224664494237e-06, 'gamma': 4.072912667361452e-06}"
      ]
     },
     "execution_count": 7,
     "metadata": {},
     "output_type": "execute_result"
    }
   ],
   "source": [
    "search.best_params_"
   ]
  },
  {
   "cell_type": "markdown",
   "metadata": {},
   "source": [
    "### E1.2: Pipelines and simple Neural Networks\n",
    "Split the MNIST data into  train- and test-sets and then train and evaluate a simple Multi Layer Perceptron (MLP) network. Since the non-linear activation functions of MLPs are sensitive to the scaling on the input (recall the *sigmoid* function), we need to scale all input values to [0,1] \n",
    "\n",
    "* combine all steps of your training in a SKL pipeline (https://scikit-learn.org/stable/modules/compose.html#pipeline)\n",
    "* use a SKL-scaler to scale the data (https://scikit-learn.org/stable/modules/generated/sklearn.preprocessing.StandardScaler.html)\n",
    "* MLP Parameters: https://scikit-learn.org/stable/modules/generated/sklearn.neural_network.MLPClassifier.html#sklearn.neural_network.MLPClassifier\n",
    "    * use a *SGD* solver\n",
    "    * use *tanh* as activation function\n",
    "    * compare networks with 1, 2 and 3 layers, use different numbers of neurons per layer\n",
    "    * adjust training parameters *alpha* (regularization) and *learning rate* - how sensitive is the model to these parameters?\n",
    "    * Hint: do not change all parameters at the same time, split into several experiments\n",
    "* How hard is it to find the best parameters? How many experiments would you need to find the best parameters?\n",
    "    \n"
   ]
  },
  {
   "cell_type": "code",
   "execution_count": 8,
   "metadata": {},
   "outputs": [],
   "source": [
    "from sklearn.pipeline import make_pipeline\n",
    "from sklearn.pipeline import Pipeline\n",
    "from sklearn.preprocessing import StandardScaler\n",
    "from sklearn.model_selection import train_test_split\n",
    "from sklearn.neural_network import MLPClassifier\n",
    "\n",
    "from sklearn.model_selection import GridSearchCV\n",
    "\n",
    "from sklearn.model_selection import cross_val_score\n",
    "\n",
    "from scipy.stats import randint\n",
    "\n",
    "X_train, X_test, y_train, y_test = train_test_split(X, y, test_size=0.1, random_state=42)"
   ]
  },
  {
   "cell_type": "code",
   "execution_count": 9,
   "metadata": {},
   "outputs": [
    {
     "name": "stdout",
     "output_type": "stream",
     "text": [
      "Fitting 5 folds for each of 3 candidates, totalling 15 fits\n"
     ]
    },
    {
     "name": "stderr",
     "output_type": "stream",
     "text": [
      "[Parallel(n_jobs=6)]: Using backend LokyBackend with 6 concurrent workers.\n",
      "[Parallel(n_jobs=6)]: Done   8 out of  15 | elapsed: 26.8min remaining: 23.4min\n",
      "[Parallel(n_jobs=6)]: Done  12 out of  15 | elapsed: 31.1min remaining:  7.8min\n",
      "[Parallel(n_jobs=6)]: Done  15 out of  15 | elapsed: 33.1min finished\n"
     ]
    }
   ],
   "source": [
    "steps = [('scaler', StandardScaler()), ('mlpclassifier', MLPClassifier(solver=\"sgd\",activation=\"tanh\",max_iter=300))]\n",
    "mlp = Pipeline(steps)\n",
    "\n",
    "\n",
    "parameter_dist_1 = {\n",
    "    'mlpclassifier__hidden_layer_sizes': [\n",
    "        (250,75,150),                                          \n",
    "        (125,100,),\n",
    "        (75,)\n",
    "    ]    \n",
    "}\n",
    "\n",
    "clf_hidden_layer = GridSearchCV(mlp, parameter_dist_1,n_jobs=6,verbose=4)\n",
    "search_hidden_layer = clf_hidden_layer.fit(X_train,y_train)"
   ]
  },
  {
   "cell_type": "code",
   "execution_count": 10,
   "metadata": {},
   "outputs": [
    {
     "data": {
      "text/plain": [
       "Pipeline(steps=[('scaler', StandardScaler()),\n",
       "                ('mlpclassifier',\n",
       "                 MLPClassifier(activation='tanh',\n",
       "                               hidden_layer_sizes=(250, 75, 150), max_iter=300,\n",
       "                               solver='sgd'))])"
      ]
     },
     "execution_count": 10,
     "metadata": {},
     "output_type": "execute_result"
    }
   ],
   "source": [
    "search_hidden_layer.best_estimator_"
   ]
  },
  {
   "cell_type": "code",
   "execution_count": 11,
   "metadata": {},
   "outputs": [
    {
     "data": {
      "text/plain": [
       "{'mean_fit_time': array([1114.66078391,  734.05592327,  415.09423075]),\n",
       " 'std_fit_time': array([22.63994507, 46.20116872, 68.11530291]),\n",
       " 'mean_score_time': array([0.51402488, 0.31495953, 0.17713742]),\n",
       " 'std_score_time': array([0.02252748, 0.04928753, 0.05479356]),\n",
       " 'param_mlpclassifier__hidden_layer_sizes': masked_array(data=[(250, 75, 150), (125, 100), (75,)],\n",
       "              mask=[False, False, False],\n",
       "        fill_value='?',\n",
       "             dtype=object),\n",
       " 'params': [{'mlpclassifier__hidden_layer_sizes': (250, 75, 150)},\n",
       "  {'mlpclassifier__hidden_layer_sizes': (125, 100)},\n",
       "  {'mlpclassifier__hidden_layer_sizes': (75,)}],\n",
       " 'split0_test_score': array([0.96166667, 0.95873016, 0.95865079]),\n",
       " 'split1_test_score': array([0.96087302, 0.96214286, 0.95507937]),\n",
       " 'split2_test_score': array([0.96134921, 0.96269841, 0.95944444]),\n",
       " 'split3_test_score': array([0.95992063, 0.95888889, 0.95809524]),\n",
       " 'split4_test_score': array([0.96293651, 0.96222222, 0.95626984]),\n",
       " 'mean_test_score': array([0.96134921, 0.96093651, 0.95750794]),\n",
       " 'std_test_score': array([0.00098872, 0.00174776, 0.001602  ]),\n",
       " 'rank_test_score': array([1, 2, 3])}"
      ]
     },
     "execution_count": 11,
     "metadata": {},
     "output_type": "execute_result"
    }
   ],
   "source": [
    "search_hidden_layer.cv_results_"
   ]
  },
  {
   "cell_type": "markdown",
   "metadata": {},
   "source": [
    "##### Interpretation\n",
    "Der mean_test_score verändert sich nicht stark nach Layergröße. Dennoch erhöht sich die Laufzeit pro Layer quadratisch, aber erzielt kaum bessere Testergebnisse"
   ]
  },
  {
   "cell_type": "code",
   "execution_count": 12,
   "metadata": {},
   "outputs": [
    {
     "name": "stdout",
     "output_type": "stream",
     "text": [
      "Fitting 5 folds for each of 8 candidates, totalling 40 fits\n"
     ]
    },
    {
     "name": "stderr",
     "output_type": "stream",
     "text": [
      "[Parallel(n_jobs=6)]: Using backend LokyBackend with 6 concurrent workers.\n",
      "[Parallel(n_jobs=6)]: Done  13 tasks      | elapsed: 32.2min\n",
      "[Parallel(n_jobs=6)]: Done  40 out of  40 | elapsed: 58.4min remaining:    0.0s\n",
      "[Parallel(n_jobs=6)]: Done  40 out of  40 | elapsed: 58.4min finished\n",
      "G:\\Users\\David\\anaconda3\\lib\\site-packages\\sklearn\\neural_network\\_multilayer_perceptron.py:582: ConvergenceWarning: Stochastic Optimizer: Maximum iterations (300) reached and the optimization hasn't converged yet.\n",
      "  warnings.warn(\n"
     ]
    }
   ],
   "source": [
    "parameter_dist_2 = {\n",
    "    'mlpclassifier__alpha': [0.0001,0.001,0.01,0.1,1,2,4,8]  \n",
    "}\n",
    "\n",
    "clf_alpha = GridSearchCV(mlp, parameter_dist_2,n_jobs=6,verbose=4)\n",
    "search_alpha=clf_alpha.fit(X_train,y_train)"
   ]
  },
  {
   "cell_type": "code",
   "execution_count": 13,
   "metadata": {},
   "outputs": [
    {
     "data": {
      "text/plain": [
       "Pipeline(steps=[('scaler', StandardScaler()),\n",
       "                ('mlpclassifier',\n",
       "                 MLPClassifier(activation='tanh', alpha=0.1, max_iter=300,\n",
       "                               solver='sgd'))])"
      ]
     },
     "execution_count": 13,
     "metadata": {},
     "output_type": "execute_result"
    }
   ],
   "source": [
    "search_alpha.best_estimator_"
   ]
  },
  {
   "cell_type": "code",
   "execution_count": 14,
   "metadata": {},
   "outputs": [
    {
     "data": {
      "text/plain": [
       "{'mean_fit_time': array([675.64232268, 669.51929655, 713.16079693, 708.60997272,\n",
       "        537.76720285, 386.40315475, 269.86338186, 171.45911455]),\n",
       " 'std_fit_time': array([58.77252033, 54.80189985, 22.2564743 , 16.4129268 , 59.67363984,\n",
       "        45.86808855, 24.40373476, 22.39420529]),\n",
       " 'mean_score_time': array([0.29281669, 0.29800382, 0.28842778, 0.27944593, 0.26130118,\n",
       "        0.28802748, 0.27047563, 0.16037064]),\n",
       " 'std_score_time': array([0.00870852, 0.0119433 , 0.01048754, 0.01226817, 0.0072192 ,\n",
       "        0.03124481, 0.02685336, 0.02677762]),\n",
       " 'param_mlpclassifier__alpha': masked_array(data=[0.0001, 0.001, 0.01, 0.1, 1, 2, 4, 8],\n",
       "              mask=[False, False, False, False, False, False, False, False],\n",
       "        fill_value='?',\n",
       "             dtype=object),\n",
       " 'params': [{'mlpclassifier__alpha': 0.0001},\n",
       "  {'mlpclassifier__alpha': 0.001},\n",
       "  {'mlpclassifier__alpha': 0.01},\n",
       "  {'mlpclassifier__alpha': 0.1},\n",
       "  {'mlpclassifier__alpha': 1},\n",
       "  {'mlpclassifier__alpha': 2},\n",
       "  {'mlpclassifier__alpha': 4},\n",
       "  {'mlpclassifier__alpha': 8}],\n",
       " 'split0_test_score': array([0.96190476, 0.96166667, 0.95992063, 0.96214286, 0.95460317,\n",
       "        0.94404762, 0.93166667, 0.91603175]),\n",
       " 'split1_test_score': array([0.95825397, 0.95793651, 0.9597619 , 0.96126984, 0.95428571,\n",
       "        0.94428571, 0.92984127, 0.91444444]),\n",
       " 'split2_test_score': array([0.9584127 , 0.96166667, 0.96119048, 0.96222222, 0.9568254 ,\n",
       "        0.9465873 , 0.93134921, 0.91690476]),\n",
       " 'split3_test_score': array([0.95896825, 0.95603175, 0.9581746 , 0.96119048, 0.95349206,\n",
       "        0.94198413, 0.92674603, 0.91309524]),\n",
       " 'split4_test_score': array([0.96095238, 0.9597619 , 0.95936508, 0.96214286, 0.95603175,\n",
       "        0.94380952, 0.93007937, 0.91785714]),\n",
       " 'mean_test_score': array([0.95969841, 0.9594127 , 0.95968254, 0.96179365, 0.95504762,\n",
       "        0.94414286, 0.92993651, 0.91566667]),\n",
       " 'std_test_score': array([0.00146376, 0.00218599, 0.00097072, 0.00046168, 0.00121052,\n",
       "        0.00146806, 0.00174343, 0.00170707]),\n",
       " 'rank_test_score': array([2, 4, 3, 1, 5, 6, 7, 8])}"
      ]
     },
     "execution_count": 14,
     "metadata": {},
     "output_type": "execute_result"
    }
   ],
   "source": [
    "search_alpha.cv_results_"
   ]
  },
  {
   "cell_type": "markdown",
   "metadata": {},
   "source": [
    "##### Interpretation\n",
    "Bei unterschiedlichen Alpha-Werten scheint das Modell nicht besonders sensitiv zu reagieren. Bei höheren alpha-Werten verringert sich die Laufzeit"
   ]
  },
  {
   "cell_type": "code",
   "execution_count": 15,
   "metadata": {},
   "outputs": [
    {
     "name": "stderr",
     "output_type": "stream",
     "text": [
      "[Parallel(n_jobs=6)]: Using backend LokyBackend with 6 concurrent workers.\n"
     ]
    },
    {
     "name": "stdout",
     "output_type": "stream",
     "text": [
      "Fitting 5 folds for each of 3 candidates, totalling 15 fits\n"
     ]
    },
    {
     "name": "stderr",
     "output_type": "stream",
     "text": [
      "[Parallel(n_jobs=6)]: Done   8 out of  15 | elapsed: 15.7min remaining: 13.8min\n",
      "[Parallel(n_jobs=6)]: Done  12 out of  15 | elapsed: 19.9min remaining:  5.0min\n",
      "[Parallel(n_jobs=6)]: Done  15 out of  15 | elapsed: 20.5min finished\n",
      "G:\\Users\\David\\anaconda3\\lib\\site-packages\\sklearn\\neural_network\\_multilayer_perceptron.py:582: ConvergenceWarning: Stochastic Optimizer: Maximum iterations (300) reached and the optimization hasn't converged yet.\n",
      "  warnings.warn(\n"
     ]
    }
   ],
   "source": [
    "parameter_dist_3 = {\n",
    "    'mlpclassifier__learning_rate': ['constant','adaptive','invscaling']\n",
    "}\n",
    "\n",
    "clf_learning_rate = GridSearchCV(mlp, parameter_dist_3,n_jobs=6,verbose=4)\n",
    "search_learning_rate=clf_learning_rate.fit(X_train,y_train)"
   ]
  },
  {
   "cell_type": "code",
   "execution_count": 16,
   "metadata": {},
   "outputs": [
    {
     "data": {
      "text/plain": [
       "Pipeline(steps=[('scaler', StandardScaler()),\n",
       "                ('mlpclassifier',\n",
       "                 MLPClassifier(activation='tanh', max_iter=300, solver='sgd'))])"
      ]
     },
     "execution_count": 16,
     "metadata": {},
     "output_type": "execute_result"
    }
   ],
   "source": [
    "search_learning_rate.best_estimator_"
   ]
  },
  {
   "cell_type": "code",
   "execution_count": 17,
   "metadata": {},
   "outputs": [
    {
     "data": {
      "text/plain": [
       "{'mean_fit_time': array([646.79725742, 593.9228447 , 191.20850706]),\n",
       " 'std_fit_time': array([53.92121963,  9.86233752, 38.15640427]),\n",
       " 'mean_score_time': array([0.2810473 , 0.20604506, 0.24494276]),\n",
       " 'std_score_time': array([0.01963954, 0.05939105, 0.06237656]),\n",
       " 'param_mlpclassifier__learning_rate': masked_array(data=['constant', 'adaptive', 'invscaling'],\n",
       "              mask=[False, False, False],\n",
       "        fill_value='?',\n",
       "             dtype=object),\n",
       " 'params': [{'mlpclassifier__learning_rate': 'constant'},\n",
       "  {'mlpclassifier__learning_rate': 'adaptive'},\n",
       "  {'mlpclassifier__learning_rate': 'invscaling'}],\n",
       " 'split0_test_score': array([0.96111111, 0.9602381 , 0.84428571]),\n",
       " 'split1_test_score': array([0.96007937, 0.95865079, 0.84603175]),\n",
       " 'split2_test_score': array([0.95968254, 0.96150794, 0.85420635]),\n",
       " 'split3_test_score': array([0.96103175, 0.96055556, 0.84777778]),\n",
       " 'split4_test_score': array([0.95992063, 0.95968254, 0.85428571]),\n",
       " 'mean_test_score': array([0.96036508, 0.96012698, 0.84931746]),\n",
       " 'std_test_score': array([0.00059094, 0.00094654, 0.004173  ]),\n",
       " 'rank_test_score': array([1, 2, 3])}"
      ]
     },
     "execution_count": 17,
     "metadata": {},
     "output_type": "execute_result"
    }
   ],
   "source": [
    "search_learning_rate.cv_results_"
   ]
  },
  {
   "cell_type": "markdown",
   "metadata": {},
   "source": [
    "##### Interpretation\n",
    "constant und adaptive unterscheiden sich nicht stark. Beim invscaling reduziert sich der mittlere Testwert start. Dennoch benötigt er im Mean nicht solange Zeit, wie \n",
    "das konstante und adpative lernen"
   ]
  },
  {
   "cell_type": "markdown",
   "metadata": {},
   "source": [
    "##### How hard is it to find the best parameters? How many experiments would you need to find the best parameters?\n",
    "Mit einem Gridsearch müssten alle Parameter- bzw. viele Parameterkombinationen durchgeprüft werden. Mit einem RandomSearch mit Cross Validierung können oft schneller Ergebnisse \n",
    "erzielt werden. Allerdings kann durch den Zufallsaspekt nur das lokale Optimum gefunden werden."
   ]
  },
  {
   "cell_type": "code",
   "execution_count": null,
   "metadata": {},
   "outputs": [],
   "source": []
  }
 ],
 "metadata": {
  "kernelspec": {
   "display_name": "Python 3",
   "language": "python",
   "name": "python3"
  },
  "language_info": {
   "codemirror_mode": {
    "name": "ipython",
    "version": 3
   },
   "file_extension": ".py",
   "mimetype": "text/x-python",
   "name": "python",
   "nbconvert_exporter": "python",
   "pygments_lexer": "ipython3",
   "version": "3.8.5"
  }
 },
 "nbformat": 4,
 "nbformat_minor": 4
}
